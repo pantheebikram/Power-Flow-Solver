{
 "cells": [
  {
   "cell_type": "code",
   "execution_count": 12,
   "metadata": {},
   "outputs": [],
   "source": [
    "# import necessary libaries and data files\n",
    "import numpy as np\n",
    "from data import datas\n",
    "import pandas as pd\n",
    "import matplotlib.pyplot as plt\n",
    "import warnings\n",
    "warnings.filterwarnings('ignore')\n",
    "\n",
    "\n",
    "#load data and manupulate datas if needed\n",
    "bus_data, line_data, load_data, gen_data, wind_data = datas() #data loading\n",
    "\n",
    "line_data = pd.DataFrame(line_data).sort_values(by=[0,1]).values #line data sorting and data type change\n",
    "\n",
    "bus_data = pd.DataFrame(bus_data).sort_values(by = [0]).values #Bus data sorting and data type change\n",
    "\n",
    "R = line_data[:, 2]\n",
    "X = line_data[:, 3]\n",
    "B = 0.5j * line_data[:, 4]\n",
    "taps = line_data[:,5]\n",
    "Bsh = 1j* bus_data[:, 3]\n",
    "Z = R + 1j * X\n",
    "Y = 1 / Z\n",
    "nline = len(line_data[:, 0])\n",
    "nbus = int(np.amax(line_data[:, :2]))  # Total Number of buses\n",
    "b_fr = line_data[:,0]\n",
    "b_to = line_data[:,1]\n"
   ]
  },
  {
   "cell_type": "code",
   "execution_count": 13,
   "metadata": {},
   "outputs": [],
   "source": [
    "def tap_handle(x):\n",
    "    '''Function to handle transformer tap ratio'''\n",
    "    if np.real(x) == 0:\n",
    "        return 1\n",
    "    else:\n",
    "        return 1\n",
    "    \n",
    "\n",
    "# Y Bus Formation\n",
    "def Y_bus():\n",
    "    '''Function to create Y Bus matrix '''\n",
    "    Ybus = np.zeros((nbus, nbus), dtype=complex)\n",
    "    Y1 = np.zeros((73, 73), dtype=complex)\n",
    "    np.fill_diagonal(Y1,Bsh)\n",
    "    \n",
    "    for k in range(nline):\n",
    "        # Off Diagonal Elements\n",
    "        Ybus[int(line_data[k, 0]) - 1, int(line_data[k, 1]) - 1] -= (Y[k])/np.conj(tap_handle(taps[k]))\n",
    "        Ybus[int(line_data[k, 1]) - 1, int(line_data[k, 0]) - 1] -= (Y[k])/tap_handle(taps[k])\n",
    "\n",
    "        # Diagonal Elements\n",
    "        Ybus[int(line_data[k, 0]) - 1, int(line_data[k, 0]) - 1] += (Y[k] + B[k])/pow(abs(tap_handle(taps[k])),2)\n",
    "        Ybus[int(line_data[k, 1]) - 1, int(line_data[k, 1]) - 1] += Y[k] + B[k]\n",
    "    \n",
    "    Y_bus_ = Ybus + Y1\n",
    "    return Y_bus_"
   ]
  },
  {
   "cell_type": "code",
   "execution_count": 14,
   "metadata": {},
   "outputs": [
    {
     "data": {
      "text/plain": [
       "<matplotlib.image.AxesImage at 0x1f07a053150>"
      ]
     },
     "execution_count": 14,
     "metadata": {},
     "output_type": "execute_result"
    },
    {
     "data": {
      "image/png": "[encoded data removed]",
      "text/plain": [
       "<Figure size 640x480 with 1 Axes>"
      ]
     },
     "metadata": {},
     "output_type": "display_data"
    }
   ],
   "source": [
    "\n",
    "plt.spy(Y_bus())"
   ]
  },
  {
   "cell_type": "code",
   "execution_count": 15,
   "metadata": {},
   "outputs": [],
   "source": [
    "\n",
    "line_data_ = pd.DataFrame(line_data).astype({0:int, 1:int, 2:float, 3:float, 4:float, \n",
    "                                            6:float }).sort_values(by=[0,1]) #line data sorting and data type change\n",
    "def incidence_matrix():\n",
    "    incidence_matrix = np.zeros((nline, nbus), dtype=int)\n",
    "\n",
    "    for k in range(nline):\n",
    "        incidence_matrix[k, int(b_fr[k]) - 1] = 1  # Leaving  from bus\n",
    "        incidence_matrix[k, int(b_to[k]) - 1] = -1     # arriving to bus\n",
    "\n",
    "    return incidence_matrix\n",
    "\n",
    "def diag_Y_L():\n",
    "    Y_l = np.zeros((nline,nline), dtype=complex)\n",
    "    np.fill_diagonal(Y_l, Y)\n",
    "    return Y_l\n",
    "\n",
    "def diag_Y_s():\n",
    "    Y_s = np.zeros((nbus,nbus), dtype=complex)\n",
    "    bij = (line_data_.groupby(by = [0]).sum().loc[:,4])/2\n",
    "\n",
    "    b = np.zeros(nbus)\n",
    "    for k in bij.index.astype(int):\n",
    "        if k > 0:\n",
    "            b[k-1] = bij[k]\n",
    "\n",
    "    d_s = 1j*b + 1j*Bsh\n",
    "\n",
    "    np.fill_diagonal(Y_s, d_s)\n",
    "    return Y_s\n",
    "\n",
    "\n",
    "E = incidence_matrix()\n",
    "Yl = diag_Y_L()\n",
    "Ys = diag_Y_s()\n",
    "\n",
    "Y_E_bus = np.dot(np.dot((E.T), Yl), E) + Ys\n",
    "\n",
    "Y_Bus = Y_bus()"
   ]
  },
  {
   "cell_type": "code",
   "execution_count": 16,
   "metadata": {},
   "outputs": [
    {
     "data": {
      "text/plain": [
       "<matplotlib.image.AxesImage at 0x1f079fb0750>"
      ]
     },
     "execution_count": 16,
     "metadata": {},
     "output_type": "execute_result"
    },
    {
     "data": {
      "image/png": "[encoded data removed]",
      "text/plain": [
       "<Figure size 640x480 with 1 Axes>"
      ]
     },
     "metadata": {},
     "output_type": "display_data"
    }
   ],
   "source": [
    "plt.spy(Y_E_bus)"
   ]
  },
  {
   "cell_type": "code",
   "execution_count": 17,
   "metadata": {},
   "outputs": [
    {
     "data": {
      "text/plain": [
       "0.8548382888008846"
      ]
     },
     "execution_count": 17,
     "metadata": {},
     "output_type": "execute_result"
    }
   ],
   "source": [
    "np.linalg.norm((Y_E_bus - Y_Bus))"
   ]
  },
  {
   "cell_type": "code",
   "execution_count": null,
   "metadata": {},
   "outputs": [],
   "source": []
  }
 ],
 "metadata": {
  "kernelspec": {
   "display_name": "base",
   "language": "python",
   "name": "python3"
  },
  "language_info": {
   "codemirror_mode": {
    "name": "ipython",
    "version": 3
   },
   "file_extension": ".py",
   "mimetype": "text/x-python",
   "name": "python",
   "nbconvert_exporter": "python",
   "pygments_lexer": "ipython3",
   "version": "3.11.4"
  }
 },
 "nbformat": 4,
 "nbformat_minor": 2
}
