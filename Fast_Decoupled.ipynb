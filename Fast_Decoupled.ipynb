{
 "cells": [
  {
   "cell_type": "code",
   "execution_count": 25,
   "metadata": {},
   "outputs": [],
   "source": [
    "# import necessary libaries and data files\n",
    "import numpy as np\n",
    "from data import datas\n",
    "import pandas as pd\n",
    "import matplotlib.pyplot as plt\n",
    "\n",
    "\n",
    "\n",
    "#load data and manupulate datas if needed\n",
    "bus_data, line_data, load_data, gen_data, wind_data = datas() #data loading\n",
    "\n",
    "line_data = pd.DataFrame(line_data).sort_values(by=[0,1]).values #line data sorting and data type change\n",
    "\n",
    "bus_data = pd.DataFrame(bus_data).sort_values(by = [0]).values #Bus data sorting and data type change\n",
    "\n",
    "load_data = pd.DataFrame(load_data).sort_values(by = [0]).astype({0:'int'}).set_index(0) #Load data sorting and data type change\n",
    "\n",
    "gen_data = pd.DataFrame(gen_data).sort_values(by = [0]).astype({0:'int'}).set_index(0) #Generation data sorting and data type change\n",
    "\n",
    "wind_data = pd.DataFrame(wind_data).sort_values(by = [0]).astype({0:'int'}).set_index(0) #Wind Generation data sorting and data type change\n",
    "\n",
    "\n",
    "base_mva = 100\n",
    "R = line_data[:, 2]\n",
    "X = line_data[:, 3]\n",
    "B = 0.5j * line_data[:, 4]\n",
    "taps = line_data[:,5]\n",
    "Bsh = 1j* bus_data[:, 3]\n",
    "Z = R + 1j * X\n",
    "Y = 1 / Z\n",
    "nline = len(line_data[:, 0])\n",
    "nbus = int(np.amax(line_data[:, :2]))  # Total Number of buses\n",
    "\n"
   ]
  },
  {
   "cell_type": "code",
   "execution_count": 26,
   "metadata": {},
   "outputs": [],
   "source": [
    "def tap_handle(x):\n",
    "    '''Function to handle transformer tap ratio'''\n",
    "    if np.real(x) == 0:\n",
    "        return 1\n",
    "    else:\n",
    "        return complex(x)\n",
    "    \n",
    "\n",
    "# Y Bus Formation\n",
    "def Y_bus():\n",
    "    '''Function to create Y Bus matrix '''\n",
    "    Ybus = np.zeros((nbus, nbus), dtype=complex)\n",
    "    Y1 = np.zeros((73, 73), dtype=complex)\n",
    "    np.fill_diagonal(Y1,Bsh)\n",
    "    \n",
    "    for k in range(nline):\n",
    "        # Off Diagonal Elements\n",
    "        Ybus[int(line_data[k, 0]) - 1, int(line_data[k, 1]) - 1] -= (Y[k])/np.conj(tap_handle(taps[k]))\n",
    "        Ybus[int(line_data[k, 1]) - 1, int(line_data[k, 0]) - 1] -= (Y[k])/tap_handle(taps[k])\n",
    "\n",
    "        # Diagonal Elements\n",
    "        Ybus[int(line_data[k, 0]) - 1, int(line_data[k, 0]) - 1] += (Y[k] + B[k])/pow(abs(tap_handle(taps[k])),2)\n",
    "        Ybus[int(line_data[k, 1]) - 1, int(line_data[k, 1]) - 1] += Y[k] + B[k]\n",
    "    \n",
    "    Y_bus_ = Ybus + Y1\n",
    "    return Y_bus_"
   ]
  },
  {
   "cell_type": "code",
   "execution_count": 27,
   "metadata": {},
   "outputs": [],
   "source": [
    "#Data from Bus_data\n",
    "bus_no = bus_data[:, 0].astype(int)\n",
    "bus_type = bus_data[:,1].astype(int)\n",
    "\n",
    "#Data from Load_data\n",
    "pl = np.zeros(nbus)\n",
    "pf = np.zeros(nbus)\n",
    "delta = np.zeros(nbus)\n",
    "for k in load_data.index:\n",
    "    pl[k-1] = load_data.loc[k, 2]/base_mva #base power\n",
    "    pf[k-1] = load_data.loc[k, 1]\n",
    "ql = pl * np.tan(np.arccos(pf))\n",
    "\n",
    "#From Generation Data\n",
    "pg_ = np.zeros(nbus)\n",
    "qg = np.zeros(nbus)\n",
    "vmag = np.ones(nbus)\n",
    "qmin = np.zeros(nbus)\n",
    "qmax = np.zeros(nbus)\n",
    "for k in gen_data.index:\n",
    "    pg_[k-1] = (gen_data.loc[k, 4]).sum()/base_mva\n",
    "    vmag[k-1] = np.mean(gen_data.loc[k, 3])\n",
    "    qmin[k-1] = gen_data.loc[k, 2].sum()\n",
    "    qmax[k-1] = gen_data.loc[k, 1].sum()\n",
    "\n",
    "# From Wind Data\n",
    "pwg = np.zeros(nbus)\n",
    "for k in wind_data.index:\n",
    "    pwg[k-1] = (wind_data.loc[k, 4])/base_mva\n",
    "\n",
    "pg = pg_ + pwg\n",
    "b_data = pd.DataFrame()\n",
    "b_data['Bus_No'] = bus_no\n",
    "b_data['Bus_type'] = bus_type\n",
    "b_data['Pg'] = pg\n",
    "b_data['Qg'] = qg\n",
    "b_data['Pl'] = pl\n",
    "b_data['Ql'] = ql\n",
    "b_data['Vmag'] = vmag\n",
    "b_data['Delta'] = delta\n",
    "b_data['Qmin'] = qmin/base_mva\n",
    "b_data['Qmax'] = qmax/base_mva\n",
    "b_data[\"P_sh\"] = b_data[\"Pg\"] - b_data[\"Pl\"]\n",
    "b_data[\"Q_sh\"] = b_data[\"Qg\"] - b_data[\"Ql\"]\n",
    "b_data = b_data.set_index('Bus_No')"
   ]
  },
  {
   "cell_type": "code",
   "execution_count": 28,
   "metadata": {},
   "outputs": [],
   "source": [
    "def f_x(df_, y_bus):\n",
    "    '''Function to calculate real and reactive power'''\n",
    "    df = df_.copy(deep=True)\n",
    "    P = np.zeros(nbus)\n",
    "    Q = np.zeros(nbus)\n",
    "    Y = np.absolute(y_bus)\n",
    "    th = np.angle(y_bus, deg=False)\n",
    "    for i in df.index:\n",
    "        for j in df.index:\n",
    "            P[i-1] += (df.loc[i, \"Vmag\"] * df.loc[j, \"Vmag\"] * Y[i-1, j-1] * \n",
    "                       np.cos(th[i-1, j-1] - df.loc[i, 'Delta'] + df.loc[j, 'Delta'] ))\n",
    "            Q[i-1] -= (df.loc[i, \"Vmag\"] * df.loc[j, \"Vmag\"] * Y[i-1, j-1] * \n",
    "                       np.sin(th[i-1, j-1] - df.loc[i, 'Delta'] + df.loc[j, 'Delta'] ))\n",
    "\n",
    "    return P, Q        \n"
   ]
  },
  {
   "cell_type": "code",
   "execution_count": 29,
   "metadata": {},
   "outputs": [],
   "source": [
    "def delta_f_x(df_, y_bus):\n",
    "    '''Function to calculate power mismatch'''\n",
    "    P, Q = f_x(df_, y_bus)\n",
    "    df_['P_calc'] = P\n",
    "    df_['Q_calc'] = Q\n",
    "    df_['D_P'] = df_['P_sh'] - df_['P_calc']\n",
    "    df_['D_Q'] = df_['Q_sh'] - df_['Q_calc']\n",
    "\n",
    "    return df_"
   ]
  },
  {
   "cell_type": "code",
   "execution_count": 30,
   "metadata": {},
   "outputs": [],
   "source": [
    "def Jacobian(df, y_bus):\n",
    "    '''Function to create Jacobian Matrix,\n",
    "        Create reduced jacobian'''\n",
    "    df_ = delta_f_x(df, y_bus)\n",
    "    B = np.imag(y_bus)\n",
    "\n",
    "    #J1\n",
    "    J1 = np.zeros((nbus, nbus))\n",
    "    for i in df_.index:\n",
    "        for j in df_.index:\n",
    "            if i == j:\n",
    "                J1[i-1, i-1] = -(df_.loc[i, 'Vmag'] * B[i-1, i-1]) #Diagonal element\n",
    "            else:\n",
    "                J1[i-1, j-1] = -(df_.loc[i, 'Vmag'] * B[i-1, j-1]) # Off Diagonal Element    \n",
    "    \n",
    "                \n",
    "    #J4\n",
    "    J4 = np.zeros((nbus, nbus))\n",
    "    for i in df_.index:\n",
    "        for j in df_.index:\n",
    "            if i == j:\n",
    "                J4[i-1, i-1] = -(df_.loc[i, 'Vmag'] * B[i-1, i-1]) #Diagonal element\n",
    "            else:\n",
    "                J4[i-1, j-1] = -(df_.loc[i, 'Vmag'] * B[i-1, j-1]) # Off Diagonal Element \n",
    "                \n",
    "    #Reducing Jacobian\n",
    "    J11 = J1[np.where(df_['Bus_type'] != 3)[0], :][:, np.where(df_['Bus_type'] != 3)[0]]\n",
    "    J44 = J4[np.where(df_['Bus_type'] == 1)[0], :][:, np.where(df_['Bus_type'] == 1)[0]]\n",
    "\n",
    "    #Reducing D_P and D_Q %% Determing indices\n",
    "    d_p = df_.loc[(np.where(df_['Bus_type'] != 3)[0] + 1)]['D_P']\n",
    "    d_q = df_.loc[(np.where(df_['Bus_type'] == 1)[0] + 1)]['D_Q']\n",
    "    \n",
    "    return d_p, d_q, J11, J44\n",
    "    "
   ]
  },
  {
   "cell_type": "code",
   "execution_count": 39,
   "metadata": {},
   "outputs": [],
   "source": []
  },
  {
   "cell_type": "code",
   "execution_count": 41,
   "metadata": {},
   "outputs": [
    {
     "data": {
      "text/plain": [
       "(51, 51)"
      ]
     },
     "execution_count": 41,
     "metadata": {},
     "output_type": "execute_result"
    }
   ],
   "source": []
  },
  {
   "cell_type": "code",
   "execution_count": 59,
   "metadata": {},
   "outputs": [],
   "source": [
    "def N_R(df, iter, tol):\n",
    "    \"Function to perform Newton Raphson for solving non linear equations\"\n",
    "    b_data_ = df.copy(deep=True)\n",
    "    for i in range(iter):\n",
    "        D_P, D_Q, J1, J4 = Jacobian(b_data, Y_bus())\n",
    "        del_delta = np.linalg.solve(J1, D_P)\n",
    "        print(max(np.abs(del_delta)))\n",
    "        if max(np.abs(del_delta)) <= tol:\n",
    "            print('aa')\n",
    "            pass   \n",
    "        b_data_.loc[D_P.index, 'Delta'] = b_data_.loc[D_P.index, 'Delta'].values + del_delta\n",
    "\n",
    "    for i in range(iter):\n",
    "        D_P, D_Q, J1, J4 = Jacobian(b_data, Y_bus())\n",
    "        del_V = np.linalg.solve(J4, D_Q) \n",
    "        \n",
    "        if max(np.abs(del_V)) <= tol:\n",
    "            return b_data_\n",
    "        b_data_.loc[D_Q.index, 'Vmag'] = b_data_.loc[D_Q.index, 'Vmag'].values + del_V\n",
    "    return \"Value Error\"\n",
    "    "
   ]
  },
  {
   "cell_type": "code",
   "execution_count": 60,
   "metadata": {},
   "outputs": [
    {
     "name": "stdout",
     "output_type": "stream",
     "text": [
      "1.0230522753039322\n",
      "1.0230522753039322\n",
      "1.0230522753039322\n",
      "1.0230522753039322\n",
      "1.0230522753039322\n",
      "1.0230522753039322\n",
      "1.0230522753039322\n",
      "1.0230522753039322\n",
      "1.0230522753039322\n",
      "1.0230522753039322\n",
      "1.0230522753039322\n",
      "1.0230522753039322\n",
      "1.0230522753039322\n",
      "1.0230522753039322\n",
      "1.0230522753039322\n",
      "1.0230522753039322\n",
      "1.0230522753039322\n",
      "1.0230522753039322\n",
      "1.0230522753039322\n",
      "1.0230522753039322\n",
      "1.0230522753039322\n",
      "1.0230522753039322\n",
      "1.0230522753039322\n",
      "1.0230522753039322\n",
      "1.0230522753039322\n",
      "1.0230522753039322\n",
      "1.0230522753039322\n",
      "1.0230522753039322\n",
      "1.0230522753039322\n",
      "1.0230522753039322\n"
     ]
    },
    {
     "data": {
      "text/plain": [
       "'Value Error'"
      ]
     },
     "execution_count": 60,
     "metadata": {},
     "output_type": "execute_result"
    }
   ],
   "source": [
    "N_R(b_data, 30, 0.001)"
   ]
  },
  {
   "cell_type": "code",
   "execution_count": 61,
   "metadata": {},
   "outputs": [
    {
     "data": {
      "text/plain": [
       "0.0"
      ]
     },
     "execution_count": 61,
     "metadata": {},
     "output_type": "execute_result"
    }
   ],
   "source": [
    "np.radians(0)"
   ]
  },
  {
   "cell_type": "code",
   "execution_count": null,
   "metadata": {},
   "outputs": [],
   "source": []
  }
 ],
 "metadata": {
  "kernelspec": {
   "display_name": "base",
   "language": "python",
   "name": "python3"
  },
  "language_info": {
   "codemirror_mode": {
    "name": "ipython",
    "version": 3
   },
   "file_extension": ".py",
   "mimetype": "text/x-python",
   "name": "python",
   "nbconvert_exporter": "python",
   "pygments_lexer": "ipython3",
   "version": "3.11.4"
  }
 },
 "nbformat": 4,
 "nbformat_minor": 2
}
